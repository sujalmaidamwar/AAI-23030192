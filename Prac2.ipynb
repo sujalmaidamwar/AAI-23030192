{
  "nbformat": 4,
  "nbformat_minor": 0,
  "metadata": {
    "colab": {
      "provenance": [],
      "authorship_tag": "ABX9TyOonqWUqeLn1veeG7vNGlvb",
      "include_colab_link": true
    },
    "kernelspec": {
      "name": "python3",
      "display_name": "Python 3"
    },
    "language_info": {
      "name": "python"
    }
  },
  "cells": [
    {
      "cell_type": "markdown",
      "metadata": {
        "id": "view-in-github",
        "colab_type": "text"
      },
      "source": [
        "<a href=\"https://colab.research.google.com/github/sujalmaidamwar/AAI-23030192/blob/main/Prac2.ipynb\" target=\"_parent\"><img src=\"https://colab.research.google.com/assets/colab-badge.svg\" alt=\"Open In Colab\"/></a>"
      ]
    },
    {
      "cell_type": "code",
      "execution_count": 4,
      "metadata": {
        "colab": {
          "base_uri": "https://localhost:8080/"
        },
        "id": "bvtnDYkWVq-5",
        "outputId": "a414cb38-824f-4d75-e9cb-f3db77b7ab7b"
      },
      "outputs": [
        {
          "output_type": "stream",
          "name": "stdout",
          "text": [
            "Plan to reach the goal:\n",
            "Move block A to B\n",
            "Move block C to Table\n",
            "Move block B to C\n"
          ]
        }
      ],
      "source": [
        "class BlockWorld:\n",
        "    def __init__(self, initial_state, goal_state):\n",
        "        self.initial_state = initial_state  # Initial configuration of blocks\n",
        "        self.goal_state = goal_state        # Goal configuration of blocks\n",
        "\n",
        "    def is_goal(self, state):\n",
        "        \"\"\"Check if the current state matches the goal state.\"\"\"\n",
        "        return state == self.goal_state\n",
        "\n",
        "    def get_possible_moves(self, state):\n",
        "        \"\"\"Generate all possible moves for the blocks.\"\"\"\n",
        "        moves = []\n",
        "        for block, location in state.items():\n",
        "            # A block can be moved to the table or on top of another block\n",
        "            if location != \"Table\":  # Add moving to the table if not already there\n",
        "                moves.append((block, \"Table\"))\n",
        "            for other_block in state:\n",
        "                if block != other_block and state[other_block] == \"Table\":\n",
        "                    moves.append((block, other_block))\n",
        "        return moves\n",
        "\n",
        "    def apply_move(self, state, move):\n",
        "        \"\"\"Apply a move to create a new state.\"\"\"\n",
        "        block, destination = move\n",
        "        new_state = state.copy()\n",
        "        new_state[block] = destination\n",
        "        return new_state\n",
        "\n",
        "    def solve(self):\n",
        "        \"\"\"Find a sequence of moves to reach the goal state.\"\"\"\n",
        "        from collections import deque\n",
        "\n",
        "        queue = deque([(self.initial_state, [])])  # BFS queue with (state, moves)\n",
        "        visited = set()\n",
        "\n",
        "        while queue:\n",
        "            current_state, path = queue.popleft()\n",
        "\n",
        "            # If goal state is reached, return the path\n",
        "            if self.is_goal(current_state):\n",
        "                return path\n",
        "\n",
        "            # Mark the state as visited\n",
        "            visited.add(tuple(current_state.items()))\n",
        "\n",
        "            # Generate possible moves and apply them\n",
        "            for move in self.get_possible_moves(current_state):\n",
        "                new_state = self.apply_move(current_state, move)\n",
        "\n",
        "                # Avoid revisiting states\n",
        "                if tuple(new_state.items()) not in visited:\n",
        "                    queue.append((new_state, path + [move]))\n",
        "\n",
        "        return None  # No solution found\n",
        "\n",
        "\n",
        "# Example Usage\n",
        "initial_state = {\"A\": \"Table\", \"B\": \"Table\", \"C\": \"A\"}  # A is on the table, B is on the table, C is on A\n",
        "goal_state = {\"A\": \"B\", \"B\": \"C\", \"C\": \"Table\"}  # A on B, B on C, C on the table\n",
        "\n",
        "bw = BlockWorld(initial_state, goal_state)\n",
        "solution = bw.solve()\n",
        "\n",
        "print(\"Plan to reach the goal:\")\n",
        "for step in solution:\n",
        "    print(f\"Move block {step[0]} to {step[1]}\")\n"
      ]
    }
  ]
}